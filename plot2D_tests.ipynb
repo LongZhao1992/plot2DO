{
  "cells": [
    {
      "cell_type": "markdown",
      "source": [
        "# _Plot2DO_ - A tool to assess the quality and distribution of genomic data\n",
        "Micrococcal nuclease digestion followed by deep sequencing (MNase-seq) is the most used method to investigate nucleosome organization on a genome-wide scale. We present _plot2DO_, a software package for creating 2D occupancy plots, which allows biologists to evaluate the quality of MNase-seq data and to visualize the distribution of nucleosomes near the functional regions of the genome (e.g. gene promoters, origins of replication, etc.).\n",
        "\n",
        "_plot2DO_ is an open source package written in R that can be launched from the command line in a terminal, which can be used for computing and visualizing the two-dimensional (2D) occupancies of genomic data (e.g. MNase-seq or MNase-ChIP-seq data). Instead of using the typical one-dimensional (1D) occupancy/coverage, obtained by stacking all the mapped reads regardless of their lengths, it is more informative to compute the relative occupancy given by DNA fragments of specific lengths in a matrix form.\n",
        "\n",
        "### Dependencies\n",
        "_plot2DO_ uses the following R packages: `GenomicRanges, IRanges, rtracklayer, AnnotationHub, biomaRt, Rsamtools, yaml, optparse, ggplot2, reshape2, colorRamps, gridExtra`.\n",
        "\nTo install all these dependencies run the following command in the terminal:"
      ],
      "metadata": {}
    },
    {
      "cell_type": "code",
      "source": [
        "Rscript plot2DO_setup.R"
      ],
      "outputs": [
        {
          "output_type": "stream",
          "name": "stdout",
          "text": [
            "      GenomicRanges             IRanges         rtracklayer       AnnotationHub \n",
            "\"already installed\" \"already installed\" \"already installed\" \"already installed\" \n",
            "            biomaRt           Rsamtools \n",
            "\"already installed\" \"already installed\" \n",
            "               yaml            optparse             ggplot2            reshape2 \n",
            "\"already installed\" \"already installed\" \"already installed\" \"already installed\" \n",
            "         colorRamps           gridExtra \n",
            "\"already installed\" \"already installed\" \n"
          ]
        }
      ],
      "execution_count": 1,
      "metadata": {}
    },
    {
      "cell_type": "markdown",
      "source": [
        "### Usage\n",
        "After the R packages have been installed, you can execute _plot2DO_ from a terminal. The only required input is the name of the file that contains the aligned genomic data (in BAM or BED format). To generate the default 2D occupancy (2DO) plot (around TSS, all DNA fragments with the lengths between 50 - 200 bp, 2kb windows centered on TSS, yeast DNA), run the following command:"
      ],
      "metadata": {}
    },
    {
      "cell_type": "code",
      "source": [
        "Rscript plot2DO.R --file=Sample_BAM_files/yeast_SRR2045610.5M_reads.bam"
      ],
      "outputs": [],
      "execution_count": 2,
      "metadata": {}
    },
    {
      "cell_type": "markdown",
      "source": [
        "click to see [result](files/output/2D_occupancy_TSS/OCC_matrix.TSS.50_200.yeast_SRR2045610.5M_reads.pdf)\n"
      ],
      "metadata": {}
    },
    {
      "cell_type": "code",
      "source": [
        "Rscript plot2DO.R --file=Sample_BAM_files/yeast_SRR2045610.5M_reads.bam \\\n",
        "                  --type=dyads --reference=Plus1 --colorScaleMax=0.15"
      ],
      "outputs": [],
      "execution_count": 3,
      "metadata": {}
    },
    {
      "cell_type": "markdown",
      "source": [
        "click to see [result](files/output/2D_occupancy_Plus1/DYADS_matrix.Plus1.50_200.yeast_SRR2045610.pdf)"
      ],
      "metadata": {}
    },
    {
      "cell_type": "code",
      "source": [
        "Rscript plot2DO.R --file=Sample_BAM_files/yeast_SRR2045610.5M_reads.bam \\\n",
        "                  --sites=Annotations/Yeast_tRNA_genes.bed \\\n",
        "                  --align=fivePrime --siteLabel=tRNA --simplifyPlot=on"
      ],
      "outputs": [],
      "execution_count": 4,
      "metadata": {}
    },
    {
      "cell_type": "markdown",
      "source": [
        "click to see [result](files/output/2D_occupancy_tRNA/OCC_matrix.tRNA.50_200.yeast_SRR2045610.pdf)"
      ],
      "metadata": {}
    },
    {
      "cell_type": "code",
      "source": [
        "Rscript plot2DO.R --file=Sample_BAM_files/yeast_SRR2045610.5M_reads.bam \\\n",
        "                  --sites=Annotations/Yeast_ARS_locations.bed \\\n",
        "                  --align=center --siteLabel=ARS --simplifyPlot=on"
      ],
      "outputs": [],
      "execution_count": 5,
      "metadata": {}
    },
    {
      "cell_type": "markdown",
      "source": [
        "click to see [result](files/output/2D_occupancy_ARS/OCC_matrix.ARS.50_200.yeast_SRR2045610.pdf)"
      ],
      "metadata": {}
    },
    {
      "cell_type": "code",
      "source": [
        "Rscript plot2DO.R --file=Sample_BAM_files/yeast_SRR2045610.5M_reads.bam \\\n",
        "                  --sites=Annotations/Yeast_centromeres.bed \\\n",
        "                  --align=threePrime --siteLabel=centromere --simplifyPlot=on"
      ],
      "outputs": [],
      "execution_count": 6,
      "metadata": {}
    },
    {
      "cell_type": "markdown",
      "source": [
        "click to see [result](files/output/2D_occupancy_centromere/OCC_matrix.centromere.50_200.yeast_SRR2045610.pdf)"
      ],
      "metadata": {}
    },
    {
      "cell_type": "code",
      "source": [
        "Rscript plot2DO.R --file=Sample_BAM_files/fly_SRR2038265.5M_reads.bam \\\n",
        "                  --genome=dm3 --reference=TSS --simplifyPlot=on"
      ],
      "outputs": [],
      "execution_count": 7,
      "metadata": {}
    },
    {
      "cell_type": "markdown",
      "source": [
        "click to see [result](files/output/2D_occupancy_TSS/OCC_matrix.TSS.50_200.fly_SRR2038265.5M_reads.pdf)"
      ],
      "metadata": {}
    },
    {
      "cell_type": "code",
      "source": [
        "Rscript plot2DO.R --file=Sample_BAM_files/worm_SRR3289717.5M_reads.bam \\\n",
        "                  --genome=ce10 --reference=TSS --simplifyPlot=on"
      ],
      "outputs": [],
      "execution_count": 8,
      "metadata": {}
    },
    {
      "cell_type": "markdown",
      "source": [
        "click to see [result](files/output/2D_occupancy_TSS/OCC_matrix.TSS.50_200.worm_SRR3289717.5M_reads.pdf)"
      ],
      "metadata": {}
    },
    {
      "cell_type": "code",
      "source": [
        "Rscript plot2DO.R --file=Sample_BAM_files/mouse_SRR572708.5M_reads.bam \\\n",
        "                  --genome=mm10 --reference=TSS --simplifyPlot=on"
      ],
      "outputs": [],
      "execution_count": 9,
      "metadata": {}
    },
    {
      "cell_type": "markdown",
      "source": [
        "click to see [result](files/output/2D_occupancy_TSS/OCC_matrix.TSS.50_200.mouse_SRR572708.5M_reads.pdf)"
      ],
      "metadata": {}
    },
    {
      "cell_type": "code",
      "source": [
        "Rscript plot2DO.R --file=Sample_BAM_files/human_SRR1781839.5M_reads.bam \\\n",
        "                  --genome=hg19 --reference=TSS --simplifyPlot=on"
      ],
      "outputs": [],
      "execution_count": 10,
      "metadata": {}
    },
    {
      "cell_type": "markdown",
      "source": [
        "click to see [result](/files/output/2D_occupancy_TSS/OCC_matrix.TSS.50_200.human_SRR1781839.5M_reads.pdf)"
      ],
      "metadata": {}
    },
    {
      "cell_type": "code",
      "source": [
        "Rscript plot2DO.R --file=Sample_BAM_files/yeast_50U_MNase_SRR3649301.5M_reads.bam \\\n",
        "                  --sites=Annotations/Yeast_tRNA_genes.bed \\\n",
        "                  --siteLabel=tRNA --colorScaleMax=0.03 \\\n",
        "                  --upstream=100 --downstream=100 --squeezePlot=on"
      ],
      "outputs": [],
      "execution_count": 11,
      "metadata": {}
    },
    {
      "cell_type": "markdown",
      "source": [
        "click to see [result](files/output/2D_occupancy_tRNA/OCC_matrix.tRNA.50_200.yeast_50U_MNase_SRR3649301.5M_reads.pdf)"
      ],
      "metadata": {}
    },
    {
      "cell_type": "code",
      "source": [
        "Rscript plot2DO.R --file=Sample_BAM_files/yeast_100U_MNase_SRR3649296.5M_reads.bam \\\n",
        "                  --sites=Annotations/Yeast_tRNA_genes.bed \\\n",
        "                  --siteLabel=tRNA --colorScaleMax=0.03 \\\n",
        "                  --upstream=100 --downstream=100 --squeezePlot=on"
      ],
      "outputs": [],
      "execution_count": 12,
      "metadata": {}
    },
    {
      "cell_type": "markdown",
      "source": [
        "click to see [result](files/output/2D_occupancy_tRNA/OCC_matrix.tRNA.50_200.yeast_100U_MNase_SRR3649296.5M_reads.pdf)"
      ],
      "metadata": {}
    },
    {
      "cell_type": "code",
      "source": [
        "Rscript plot2DO.R --file=Sample_BAM_files/yeast_200U_MNase_SRR3649297.5M_reads.bam \\\n",
        "                  --sites=Annotations/Yeast_tRNA_genes.bed \\\n",
        "                  --siteLabel=tRNA --colorScaleMax=0.03 \\\n",
        "                  --upstream=100 --downstream=100 --squeezePlot=on"
      ],
      "outputs": [],
      "execution_count": 13,
      "metadata": {}
    },
    {
      "cell_type": "markdown",
      "source": [
        "click to see [result](files/output/2D_occupancy_tRNA/OCC_matrix.tRNA.50_200.yeast_200U_MNase_SRR3649297.5M_reads.pdf)"
      ],
      "metadata": {}
    },
    {
      "cell_type": "code",
      "source": [
        "Rscript plot2DO.R --file=Sample_BAM_files/yeast_300U_MNase_SRR3649298.5M_reads.bam \\\n",
        "                  --sites=Annotations/Yeast_tRNA_genes.bed \\\n",
        "                  --siteLabel=tRNA --colorScaleMax=0.03 \\\n",
        "                  --upstream=100 --downstream=100 --squeezePlot=on"
      ],
      "outputs": [],
      "execution_count": 14,
      "metadata": {}
    },
    {
      "cell_type": "markdown",
      "source": [
        "click to see [result](files/output/2D_occupancy_tRNA/OCC_matrix.tRNA.50_200.yeast_300U_MNase_SRR3649298.5M_reads.pdf)"
      ],
      "metadata": {}
    },
    {
      "cell_type": "code",
      "source": [
        "Rscript plot2DO.R --file=Sample_BAM_files/yeast_400U_MNase_SRR3649299.5M_reads.bam \\\n",
        "                  --sites=Annotations/Yeast_tRNA_genes.bed \\\n",
        "                  --siteLabel=tRNA --colorScaleMax=0.03 \\\n",
        "                  --upstream=100 --downstream=100 --squeezePlot=on"
      ],
      "outputs": [],
      "execution_count": 15,
      "metadata": {}
    },
    {
      "cell_type": "markdown",
      "source": [
        "click to see [result](files/output/2D_occupancy_tRNA/OCC_matrix.tRNA.50_200.yeast_400U_MNase_SRR3649299.5M_reads.pdf)"
      ],
      "metadata": {}
    },
    {
      "cell_type": "code",
      "source": [
        "Rscript plot2DO.R --file=Sample_BAM_files/yeast_50U_MNase_SRR3649301.5M_reads.bam \\\n",
        "                  --reference=Plus1 --colorScaleMax=0.03 \\\n",
        "                  --upstream=100 --downstream=100 --squeezePlot=on"
      ],
      "outputs": [],
      "execution_count": 16,
      "metadata": {}
    },
    {
      "cell_type": "markdown",
      "source": [
        "click to see [result](files/output/2D_occupancy_Plus1/OCC_matrix.Plus1.50_200.yeast_50U_MNase_SRR3649301.5M_reads.pdf)"
      ],
      "metadata": {}
    },
    {
      "cell_type": "code",
      "source": [
        "Rscript plot2DO.R --file=Sample_BAM_files/yeast_100U_MNase_SRR3649296.5M_reads.bam \\\n",
        "                  --reference=Plus1 --colorScaleMax=0.03 \\\n",
        "                  --upstream=100 --downstream=100 --squeezePlot=on"
      ],
      "outputs": [],
      "execution_count": 17,
      "metadata": {}
    },
    {
      "cell_type": "markdown",
      "source": [
        "click to see [result](files/output/2D_occupancy_Plus1/OCC_matrix.Plus1.50_200.yeast_100U_MNase_SRR3649296.5M_reads.pdf)"
      ],
      "metadata": {}
    },
    {
      "cell_type": "code",
      "source": [
        "Rscript plot2DO.R --file=Sample_BAM_files/yeast_200U_MNase_SRR3649297.5M_reads.bam \\\n",
        "                  --reference=Plus1 --colorScaleMax=0.03 \\\n",
        "                  --upstream=100 --downstream=100 --squeezePlot=on"
      ],
      "outputs": [],
      "execution_count": 18,
      "metadata": {}
    },
    {
      "cell_type": "markdown",
      "source": [
        "click to see [result](files/output/2D_occupancy_Plus1/OCC_matrix.Plus1.50_200.yeast_200U_MNase_SRR3649297.5M_reads.pdf)"
      ],
      "metadata": {}
    },
    {
      "cell_type": "code",
      "source": [
        "Rscript plot2DO.R --file=Sample_BAM_files/yeast_300U_MNase_SRR3649298.5M_reads.bam \\\n",
        "                  --reference=Plus1 --colorScaleMax=0.03 \\\n",
        "                  --upstream=100 --downstream=100 --squeezePlot=on"
      ],
      "outputs": [],
      "execution_count": 19,
      "metadata": {}
    },
    {
      "cell_type": "markdown",
      "source": [
        "click to see [result](files/output/2D_occupancy_Plus1/OCC_matrix.Plus1.50_200.yeast_300U_MNase_SRR3649298.5M_reads.pdf)"
      ],
      "metadata": {}
    },
    {
      "cell_type": "code",
      "source": [
        "Rscript plot2DO.R --file=Sample_BAM_files/yeast_400U_MNase_SRR3649299.5M_reads.bam \\\n",
        "                  --reference=Plus1 --colorScaleMax=0.03 \\\n",
        "                  --upstream=100 --downstream=100 --squeezePlot=on"
      ],
      "outputs": [],
      "execution_count": 20,
      "metadata": {}
    },
    {
      "cell_type": "markdown",
      "source": [
        "click to see [result](/files/output/2D_occupancy_Plus1/OCC_matrix.Plus1.50_200.yeast_400U_MNase_SRR3649299.5M_reads.pdf)"
      ],
      "metadata": {}
    },
    {
      "cell_type": "code",
      "source": [
        "Rscript plot2DO.R --file=Sample_BAM_files/CC_yeast_GSM2561059.5M_reads.bed \\\n",
        "                  --reference=Plus1 --minLength=20 --maxLength=200"
      ],
      "outputs": [
        {
          "output_type": "stream",
          "name": "stdout",
          "text": [
            "Error in rbind(...) : \n",
            "  number of columns of matrices must match (see arg 2)\n",
            "Calls: Main ... rbind -> standardGeneric -> eval -> eval -> eval -> rbind\n",
            "Execution halted\n"
          ]
        },
        {
          "output_type": "error",
          "ename": "",
          "evalue": "1",
          "traceback": []
        }
      ],
      "execution_count": 22,
      "metadata": {}
    },
    {
      "cell_type": "code",
      "source": [],
      "outputs": [],
      "execution_count": null,
      "metadata": {
        "collapsed": false,
        "outputHidden": false,
        "inputHidden": false
      }
    }
  ],
  "metadata": {
    "kernel_info": {
      "name": "bash"
    },
    "kernelspec": {
      "name": "bash",
      "language": "bash",
      "display_name": "Bash"
    },
    "language_info": {
      "name": "bash",
      "codemirror_mode": "shell",
      "mimetype": "text/x-sh",
      "file_extension": ".sh"
    },
    "nteract": {
      "version": "0.12.3"
    }
  },
  "nbformat": 4,
  "nbformat_minor": 2
}