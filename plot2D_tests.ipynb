{
 "cells": [
  {
   "cell_type": "markdown",
   "metadata": {},
   "source": [
    "# _Plot2DO_ - A tool to assess the quality and distribution of genomic data\n",
    "Micrococcal nuclease digestion followed by deep sequencing (MNase-seq) is the most used method to investigate nucleosome organization on a genome-wide scale. We present _plot2DO_, a software package for creating 2D occupancy plots, which allows biologists to evaluate the quality of MNase-seq data and to visualize the distribution of nucleosomes near the functional regions of the genome (e.g. gene promoters, origins of replication, etc.).\n",
    "\n",
    "_plot2DO_ is an open source package written in R that can be launched from the command line in a terminal, which can be used for computing and visualizing the two-dimensional (2D) occupancies of genomic data (e.g. MNase-seq or MNase-ChIP-seq data). Instead of using the typical one-dimensional (1D) occupancy/coverage, obtained by stacking all the mapped reads regardless of their lengths, it is more informative to compute the relative occupancy given by DNA fragments of specific lengths in a matrix form.\n",
    "\n",
    "### Dependencies\n",
    "_plot2DO_ uses the following R packages: `GenomicRanges, IRanges, rtracklayer, AnnotationHub, biomaRt, Rsamtools, yaml, optparse, ggplot2, reshape2, colorRamps, gridExtra`.\n",
    "\n",
    "To install all these dependencies run the following command in the terminal:"
   ]
  },
  {
   "cell_type": "code",
   "execution_count": 1,
   "metadata": {},
   "outputs": [
    {
     "name": "stdout",
     "output_type": "stream",
     "text": [
      "      GenomicRanges             IRanges         rtracklayer       AnnotationHub \n",
      "\"already installed\" \"already installed\" \"already installed\" \"already installed\" \n",
      "            biomaRt           Rsamtools \n",
      "\"already installed\" \"already installed\" \n",
      "also installing the dependency ‘getopt’\n",
      "\n",
      "trying URL 'http://cloud.r-project.org/bin/macosx/el-capitan/contrib/3.5/getopt_1.20.2.tgz'\n",
      "Content type 'application/x-gzip' length 33391 bytes (32 KB)\n",
      "==================================================\n",
      "downloaded 32 KB\n",
      "\n",
      "trying URL 'http://cloud.r-project.org/bin/macosx/el-capitan/contrib/3.5/optparse_1.6.1.tgz'\n",
      "Content type 'application/x-gzip' length 65421 bytes (63 KB)\n",
      "==================================================\n",
      "downloaded 63 KB\n",
      "\n",
      "\n",
      "The downloaded binary packages are in\n",
      "\t/var/folders/n0/zfgsv2t11sx6g2m3hsg6_8vhm3xsz7/T//RtmpmuA3hs/downloaded_packages\n",
      "                     yaml                  optparse                   ggplot2 \n",
      "      \"already installed\" \"successful installation\"       \"already installed\" \n",
      "                 reshape2                colorRamps                 gridExtra \n",
      "      \"already installed\"       \"already installed\"       \"already installed\" \n"
     ]
    }
   ],
   "source": [
    "Rscript plot2DO_setup.R"
   ]
  },
  {
   "cell_type": "markdown",
   "metadata": {},
   "source": [
    "### Usage\n",
    "After the R packages have been installed, you can execute _plot2DO_ from a terminal. The only required input is the name of the file that contains the aligned genomic data (in BAM or BED format). To generate the default 2D occupancy (2DO) plot (around TSS, all DNA fragments with the lengths between 50 - 200 bp, 2kb windows centered on TSS, yeast DNA), run the following command:"
   ]
  },
  {
   "cell_type": "code",
   "execution_count": 2,
   "metadata": {},
   "outputs": [
    {
     "name": "stdout",
     "output_type": "stream",
     "text": [
      "\n",
      "Attaching package: ‘gridExtra’\n",
      "\n",
      "The following object is masked from ‘package:BiocGenerics’:\n",
      "\n",
      "    combine\n",
      "\n",
      "Warning messages:\n",
      "1: package ‘optparse’ was built under R version 3.5.2 \n",
      "2: package ‘AnnotationHub’ was built under R version 3.5.2 \n",
      "Error in value[[3L]](cond) : \n",
      "  failed to open BamFile: file(s) do not exist:\n",
      "  '/Users/cherejirv/Git_Repos/Local_Repos/plot2DO/data/Sample_BAM_files/yeast_SRR2045610.5M_reads.bam'\n",
      "Calls: Main ... tryCatch -> tryCatchList -> tryCatchOne -> <Anonymous>\n",
      "Execution halted\n"
     ]
    },
    {
     "ename": "",
     "evalue": "1",
     "output_type": "error",
     "traceback": []
    }
   ],
   "source": [
    "Rscript plot2DO.R --file=Sample_BAM_files/yeast_SRR2045610.5M_reads.bam"
   ]
  },
  {
   "cell_type": "code",
   "execution_count": null,
   "metadata": {},
   "outputs": [],
   "source": []
  }
 ],
 "metadata": {
  "kernel_info": {
   "name": "bash"
  },
  "kernelspec": {
   "display_name": "Bash",
   "language": "bash",
   "name": "bash"
  },
  "language_info": {
   "codemirror_mode": "shell",
   "file_extension": ".sh",
   "mimetype": "text/x-sh",
   "name": "bash"
  },
  "nteract": {
   "version": "0.12.3"
  }
 },
 "nbformat": 4,
 "nbformat_minor": 2
}
